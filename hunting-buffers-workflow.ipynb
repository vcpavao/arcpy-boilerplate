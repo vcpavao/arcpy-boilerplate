{
 "cells": [
  {
   "cell_type": "code",
   "execution_count": null,
   "metadata": {},
   "outputs": [],
   "source": [
    "import arcpy\n",
    "import os\n",
    "from arcpy import env\n",
    "\n",
    "### Workspace and geodatabase\n",
    "proj_gdb = r\"\" # replace with your gdb\n",
    "ws = arcpy.env.workspace = proj_gdb\n",
    "arcpy.env.overwriteOutput = True\n",
    "\n",
    "### Declare feature classes\n",
    "hunting_fc = \"HuntingAssessmentParcels\"\n",
    "roads_fc = \"MassGIS_Roads_2024_Western_MA_Clip\"\n",
    "towns_fc = \"MassGIS_Towns_Western_MA_Clip\"\n",
    "structs_fc = \"MassGISStructures2024_Western_MA_Clip\"\n",
    "hunting_fc_fields = [\"Name\", \"Town\"]\n",
    "\n",
    "hunting_proximate_roads_lyr = \"Hunting_proximate_roads_lyr\"\n",
    "hunting_proximate_structs_lyr = \"Hunting_proximate_structs_lyr\"\n",
    "\n",
    "### Select roads and structures around hunting parcels - 2000 ft is adjustable\n",
    "### This step reduces the size of the roads and structures layers, and so improves speed\n",
    "def getSurroundingDataByLocation():\n",
    "    select_distance = \"2000 Feet\"\n",
    "    roads_lyr = 'roads_lyr'\n",
    "    structs_lyr = 'structs_lyr'\n",
    "    arcpy.management.MakeFeatureLayer(roads_fc, roads_lyr)\n",
    "    arcpy.management.SelectLayerByLocation(roads_lyr, \"WITHIN_A_DISTANCE\", hunting_fc, select_distance)\n",
    "    arcpy.management.CopyFeatures(roads_lyr, hunting_proximate_roads_lyr)\n",
    "    \n",
    "    arcpy.management.MakeFeatureLayer(structs_fc, structs_lyr)\n",
    "    arcpy.management.SelectLayerByLocation(structs_lyr, \"WITHIN_A_DISTANCE\", hunting_fc, select_distance)\n",
    "    arcpy.management.CopyFeatures(structs_lyr, hunting_proximate_structs_lyr)\n",
    "\n",
    "getSurroundingDataByLocation()\n",
    "\n",
    "### Declare reusable buffer variables\n",
    "road_buf = hunting_proximate_roads_lyr + \"_buffer\"\n",
    "struct_buf = hunting_proximate_structs_lyr + \"_buffer\"\n",
    "all_buf = \"All_Buffers\"\n",
    "\n",
    "### Create and merge buffers\n",
    "def createBuffers():\n",
    "    arcpy.analysis.Buffer(hunting_proximate_roads_lyr, road_buf, \"150 Feet\", \"FULL\", \"ROUND\", \"ALL\")\n",
    "    arcpy.analysis.Buffer(hunting_proximate_structs_lyr, struct_buf, \"500 Feet\", \"FULL\", \"ROUND\", \"ALL\")\n",
    "    arcpy.management.Merge([road_buf, struct_buf], all_buf)\n",
    "    \n",
    "createBuffers()\n",
    "\n",
    "### Intersect buffers with hunting parcels to produce final output feature class\n",
    "def intersectBuffersAndParcels():\n",
    "    arcpy.analysis.Intersect([hunting_fc, all_buf], \"All_Hunting_Buffer_Intersect\", \"NO_FID\")\n",
    "    \n",
    "intersectBuffersAndParcels()"
   ]
  }
 ],
 "metadata": {
  "kernelspec": {
   "display_name": "ArcGISPro",
   "language": "Python",
   "name": "python3"
  },
  "language_info": {
   "file_extension": ".py",
   "name": "python",
   "version": "3"
  }
 },
 "nbformat": 4,
 "nbformat_minor": 2
}
